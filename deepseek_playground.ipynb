{
  "cells": [
    {
      "cell_type": "markdown",
      "metadata": {
        "colab_type": "text",
        "id": "view-in-github"
      },
      "source": [
        "<a href=\"https://colab.research.google.com/github/zhaw-iwi/LLM-Intro/blob/main/deepseek_playground.ipynb\" target=\"_parent\"><img src=\"https://colab.research.google.com/assets/colab-badge.svg\" alt=\"Open In Colab\"/></a>"
      ]
    },
    {
      "cell_type": "markdown",
      "metadata": {
        "id": "CW5OR6j3rlKr"
      },
      "source": [
        "# Example to Run Deepseek locally / in Google colab with ollama\n",
        "\n",
        "Prerequisites: Nvidia GPU with Cuda, Unix/Linux environment\n"
      ]
    },
    {
      "cell_type": "markdown",
      "metadata": {
        "id": "-AT4q4xirS1c"
      },
      "source": [
        "## Download ollama and install ollama"
      ]
    },
    {
      "cell_type": "code",
      "execution_count": 1,
      "metadata": {
        "id": "d6S8YeTK6KNV"
      },
      "outputs": [
        {
          "name": "stdout",
          "output_type": "stream",
          "text": [
            "  % Total    % Received % Xferd  Average Speed   Time    Time     Time  Current\n",
            "                                 Dload  Upload   Total   Spent    Left  Speed\n",
            "100 13281    0 13281    0     0  55107      0 --:--:-- --:--:-- --:--:-- 55107\n",
            ">>> Installing ollama to /usr/local\n",
            ">>> Downloading Linux amd64 bundle\n",
            "######################################################################## 100.0%                                               6.6%4.2%%###########################################       93.6%\n",
            ">>> Creating ollama user...\n",
            ">>> Adding ollama user to video group...\n",
            ">>> Adding current user to ollama group...\n",
            ">>> Creating ollama systemd service...\n",
            "\u001b[1m\u001b[31mWARNING:\u001b[m systemd is not running\n",
            "\u001b[1m\u001b[31mWARNING:\u001b[m Unable to detect NVIDIA/AMD GPU. Install lspci or lshw to automatically detect and install GPU dependencies.\n",
            ">>> The Ollama API is now available at 127.0.0.1:11434.\n",
            ">>> Install complete. Run \"ollama\" from the command line.\n"
          ]
        }
      ],
      "source": [
        "!curl https://ollama.ai/install.sh | sh"
      ]
    },
    {
      "cell_type": "markdown",
      "metadata": {
        "id": "jlJvBg6xrEq1"
      },
      "source": [
        "## Install cuda drivers\n",
        "- The first command disables the interactive shell, as we do not have access to it in colab\n",
        "- the second command installs the latest version of the cuda drivers to optimize the inference (predicition) of the model"
      ]
    },
    {
      "cell_type": "code",
      "execution_count": null,
      "metadata": {
        "id": "7LoyBqh46Y1c"
      },
      "outputs": [],
      "source": [
        "!echo 'debconf debconf/frontend select Noninteractive' | sudo debconf-set-selections\n",
        "!sudo apt-get update && sudo apt-get install -y cuda-drivers"
      ]
    },
    {
      "cell_type": "markdown",
      "metadata": {
        "id": "2q_Q7kV2v7gO"
      },
      "source": [
        "## Ensure the cuda drivers are used"
      ]
    },
    {
      "cell_type": "code",
      "execution_count": null,
      "metadata": {
        "id": "gUrQilPb8OrF"
      },
      "outputs": [],
      "source": [
        "import os\n",
        "\n",
        "# Set LD_LIBRARY_PATH so the system NVIDIA library\n",
        "os.environ.update({'LD_LIBRARY_PATH': '/usr/lib64-nvidia'})"
      ]
    },
    {
      "cell_type": "markdown",
      "metadata": {
        "id": "J4QHwiEQwExX"
      },
      "source": [
        "## Start Ollama\n",
        "- nohup is a command line expression that prevents a process from stopping after exiting the terminal."
      ]
    },
    {
      "cell_type": "code",
      "execution_count": null,
      "metadata": {
        "id": "j4ilhzAr8fsd"
      },
      "outputs": [],
      "source": [
        "!nohup ollama serve &"
      ]
    },
    {
      "cell_type": "markdown",
      "metadata": {
        "id": "zLMt1JHsy3ar"
      },
      "source": [
        "# Donwload the deepseek model"
      ]
    },
    {
      "cell_type": "code",
      "execution_count": null,
      "metadata": {
        "collapsed": true,
        "id": "wtKX5IKT8hxY"
      },
      "outputs": [],
      "source": [
        "!ollama pull deepseek-r1:7b"
      ]
    },
    {
      "cell_type": "markdown",
      "metadata": {
        "id": "mETEp74Zy8v0"
      },
      "source": [
        "## Install ollama in your Python environment"
      ]
    },
    {
      "cell_type": "code",
      "execution_count": null,
      "metadata": {
        "id": "Go_E2l-k8lp4"
      },
      "outputs": [],
      "source": [
        "!pip install ollama"
      ]
    },
    {
      "cell_type": "code",
      "execution_count": null,
      "metadata": {
        "id": "Z4jvKBtGzCYL"
      },
      "outputs": [],
      "source": []
    },
    {
      "cell_type": "markdown",
      "metadata": {
        "id": "nqTaBWx3zGQz"
      },
      "source": [
        "## Example model request"
      ]
    },
    {
      "cell_type": "code",
      "execution_count": null,
      "metadata": {
        "id": "A1Q3HqLY-RMf"
      },
      "outputs": [],
      "source": [
        "import ollama\n",
        "response = ollama.chat(model='deepseek-r1:7b', messages=[\n",
        "  {\n",
        "    'role': 'user',\n",
        "    'content': \"How many r's are in a strawberry?\",\n",
        "  },\n",
        "])\n",
        "print(response['message']['content'])"
      ]
    }
  ],
  "metadata": {
    "colab": {
      "authorship_tag": "ABX9TyMuTFP4BXerX+HEez+0ROdR",
      "include_colab_link": true,
      "provenance": []
    },
    "kernelspec": {
      "display_name": "Python 3",
      "name": "python3"
    },
    "language_info": {
      "codemirror_mode": {
        "name": "ipython",
        "version": 3
      },
      "file_extension": ".py",
      "mimetype": "text/x-python",
      "name": "python",
      "nbconvert_exporter": "python",
      "pygments_lexer": "ipython3",
      "version": "3.12.1"
    }
  },
  "nbformat": 4,
  "nbformat_minor": 0
}
